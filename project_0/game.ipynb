{
 "cells": [
  {
   "cell_type": "code",
   "execution_count": 1,
   "metadata": {},
   "outputs": [
    {
     "name": "stdout",
     "output_type": "stream",
     "text": [
      "Число должно быть меньше!\n",
      "Число должно быть меньше!\n",
      "Число должно быть меньше!\n",
      "Число должно быть меньше!\n",
      "Число должно быть меньше!\n",
      "Число должно быть меньше!\n",
      "Число должно быть меньше!\n",
      "Число должно быть меньше!\n",
      "Число должно быть меньше!\n",
      "Число должно быть меньше!\n",
      "Число должно быть меньше!\n",
      "Вы угадали число! Это число = 9, за 12 попыток\n"
     ]
    }
   ],
   "source": [
    "import numpy as np\n",
    "number = np.random.randint(1, 101) # загадываем число\n",
    "count = 0\n",
    "\n",
    "while True:\n",
    "    count += 1\n",
    "    predict_number = int(input(\"Угадай число от 1 до 100\"))\n",
    "\n",
    "    if predict_number > number:\n",
    "        print(\"Число должно быть меньше!\")\n",
    "\n",
    "    elif predict_number < number:\n",
    "        print(\"Число должно быть больше!\")\n",
    "\n",
    "    else:\n",
    "        print(f\"Вы угадали число! Это число = {number}, за {count} попыток\")\n",
    "        break # конец игры, выход из цикла"
   ]
  },
  {
   "cell_type": "code",
   "execution_count": 9,
   "metadata": {},
   "outputs": [
    {
     "name": "stdout",
     "output_type": "stream",
     "text": [
      "Количество попыток: 60\n"
     ]
    }
   ],
   "source": [
    "\"\"\"Игра угадай число.\n",
    "Компьютер сам загадывает и угадывает число\n",
    "\"\"\"\n",
    "import numpy as np\n",
    "\n",
    "def random_predict(number:int=1) -> int:\n",
    "    \"\"\"Рандомно угадываем число\n",
    "\n",
    "    Args:\n",
    "        number (int, optional): Загаданное число. Defaults to 1.\n",
    "\n",
    "    Returns:\n",
    "        int: Число попыток\n",
    "    \"\"\"\n",
    "\n",
    "    count = 0\n",
    "\n",
    "    while True:\n",
    "        count += 1\n",
    "        predict_number = np.random.randint(1, 101) # предполагаемое число\n",
    "        if number == predict_number:\n",
    "            break # выход из цикла, если угадали\n",
    "    return(count)\n",
    "print(f'Количество попыток: {random_predict()}')\n"
   ]
  },
  {
   "cell_type": "code",
   "execution_count": 3,
   "metadata": {},
   "outputs": [
    {
     "name": "stdout",
     "output_type": "stream",
     "text": [
      "Ваш алгоритм угадывает число в среднем за: 101 попыток\n"
     ]
    },
    {
     "data": {
      "text/plain": [
       "101"
      ]
     },
     "execution_count": 3,
     "metadata": {},
     "output_type": "execute_result"
    }
   ],
   "source": [
    "def score_game(random_predict) -> int:\n",
    "    \"\"\"За какое количество попыток в среднем из 1000 подходов угадывает наш алгоритм\n",
    "\n",
    "    Args:\n",
    "        random_predict ([type]): функция угадывания\n",
    "\n",
    "    Returns:\n",
    "        int: среднее количество попыток\n",
    "    \"\"\"\n",
    "\n",
    "    count_ls = [] # список для сохранения количества попыток\n",
    "    np.random.seed(1) # фиксируем сид для воспроизводимости\n",
    "    random_array = np.random.randint(1, 101, size=(1000)) # загадали список чисел\n",
    "\n",
    "    for number in random_array:\n",
    "        count_ls.append(random_predict(number))\n",
    "\n",
    "    score = int(np.mean(count_ls)) # находим среднее количество попыток\n",
    "\n",
    "    print(f'Ваш алгоритм угадывает число в среднем за: {score} попыток')\n",
    "    return(score)\n",
    "\n",
    "# RUN\n",
    "score_game(random_predict)"
   ]
  },
  {
   "cell_type": "code",
   "execution_count": null,
   "metadata": {},
   "outputs": [
    {
     "name": "stdout",
     "output_type": "stream",
     "text": [
      "Ваш алгоритм угадывает число в среднем за: 5 попыток\n"
     ]
    }
   ],
   "source": [
    "import numpy as np\n",
    "\n",
    "def binary_predict(number: int) -> int:\n",
    "    \"\"\"Угадываем число с помощью бинарного поиска\"\"\"\n",
    "    low, high = 1, 100  # задаем начальные границы\n",
    "    count = 0  # счетчик попыток\n",
    "\n",
    "    while low <= high:\n",
    "        count += 1\n",
    "        mid = (low + high) // 2  # предполагаемое число (середина диапазона)\n",
    "        \n",
    "        if mid == number:\n",
    "            return count  # число угадано\n",
    "        elif mid < number:\n",
    "            low = mid + 1  # сдвигаем нижнюю границу\n",
    "        else:\n",
    "            high = mid - 1  # сдвигаем верхнюю границу\n",
    "\n",
    "    return count\n",
    "\n",
    "def score_game(predict_function) -> int:\n",
    "    \"\"\"Запускаем игру 1000 раз, чтобы узнать среднее количество попыток\"\"\"\n",
    "    np.random.seed(1)  # фиксируем RANDOM SEED для воспроизводимости\n",
    "    random_numbers = np.random.randint(1, 101, size=1000)  # список случайных чисел\n",
    "    attempts = [predict_function(number) for number in random_numbers]\n",
    "    return int(np.mean(attempts))\n",
    "\n",
    "# Проверяем\n",
    "print(f\"Ваш алгоритм угадывает число в среднем за: {score_game(binary_predict)} попыток\")"
   ]
  }
 ],
 "metadata": {
  "kernelspec": {
   "display_name": "base",
   "language": "python",
   "name": "python3"
  },
  "language_info": {
   "codemirror_mode": {
    "name": "ipython",
    "version": 3
   },
   "file_extension": ".py",
   "mimetype": "text/x-python",
   "name": "python",
   "nbconvert_exporter": "python",
   "pygments_lexer": "ipython3",
   "version": "3.12.7"
  }
 },
 "nbformat": 4,
 "nbformat_minor": 2
}
