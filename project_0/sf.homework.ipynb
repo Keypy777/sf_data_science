{
 "cells": [
  {
   "cell_type": "code",
   "execution_count": 1,
   "metadata": {},
   "outputs": [
    {
     "name": "stdout",
     "output_type": "stream",
     "text": [
      "Ваш алгоритм угадывает число в среднем за: 5 попыток\n"
     ]
    }
   ],
   "source": [
    "import numpy as np\n",
    "\n",
    "def binary_predict(number: int) -> int:\n",
    "    \"\"\"Угадываем число с помощью бинарного поиска\"\"\"\n",
    "    low, high = 1, 100  # задаем начальные границы\n",
    "    count = 0  # счетчик попыток\n",
    "\n",
    "    while low <= high:\n",
    "        count += 1\n",
    "        mid = (low + high) // 2  # предполагаемое число (середина диапазона)\n",
    "        \n",
    "        if mid == number:\n",
    "            return count  # число угадано\n",
    "        elif mid < number:\n",
    "            low = mid + 1  # сдвигаем нижнюю границу\n",
    "        else:\n",
    "            high = mid - 1  # сдвигаем верхнюю границу\n",
    "\n",
    "    return count\n",
    "\n",
    "def score_game(predict_function) -> int:\n",
    "    \"\"\"Запускаем игру 1000 раз, чтобы узнать среднее количество попыток\"\"\"\n",
    "    np.random.seed(1)  # фиксируем RANDOM SEED для воспроизводимости\n",
    "    random_numbers = np.random.randint(1, 101, size=1000)  # список случайных чисел\n",
    "    attempts = [predict_function(number) for number in random_numbers]\n",
    "    return int(np.mean(attempts))\n",
    "\n",
    "# Проверяем\n",
    "print(f\"Ваш алгоритм угадывает число в среднем за: {score_game(binary_predict)} попыток\")"
   ]
  }
 ],
 "metadata": {
  "kernelspec": {
   "display_name": "base",
   "language": "python",
   "name": "python3"
  },
  "language_info": {
   "codemirror_mode": {
    "name": "ipython",
    "version": 3
   },
   "file_extension": ".py",
   "mimetype": "text/x-python",
   "name": "python",
   "nbconvert_exporter": "python",
   "pygments_lexer": "ipython3",
   "version": "3.12.7"
  }
 },
 "nbformat": 4,
 "nbformat_minor": 2
}
